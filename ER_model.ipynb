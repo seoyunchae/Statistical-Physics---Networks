{
 "cells": [
  {
   "cell_type": "code",
   "execution_count": 1,
   "metadata": {},
   "outputs": [],
   "source": [
    "import itertools\n",
    "import numpy as np\n",
    "import matplotlib.pyplot as plt\n",
    "\n",
    "class ER_model():\n",
    "    \n",
    "    # input (the number of nodes, connection probability)\n",
    "    def __init__(self, nodes, p):\n",
    "        self.graph={}\n",
    "        self.nodes=nodes\n",
    "        self.p=p\n",
    "        self.link=[]\n",
    "    \n",
    "    def generate(self):\n",
    "        for i in range(self.nodes):\n",
    "            self.graph[i]=[]\n",
    "        \n",
    "        node_list = np.arange(self.nodes)\n",
    "        for (i,j) in list(itertools.combinations(node_list, 2)):\n",
    "            if np.random.random() < self.p:\n",
    "                self.graph[i].append(j)\n",
    "                self.graph[j].append(i)\n",
    "                self.link.append((i,j))\n",
    "            \n",
    "    def degree_distribution(self):\n",
    "        \n",
    "        degrees = [len(i) for i in self.graph.values()]   \n",
    "        plt.hist(degrees, 50, color='royalblue')\n",
    "        plt.ylabel('P(k)', fontsize=18)\n",
    "        plt.xlabel('k', fontsize=18)\n",
    "        plt.tick_params(labelsize=14)\n",
    "        plt.show()"
   ]
  },
  {
   "cell_type": "code",
   "execution_count": 3,
   "metadata": {},
   "outputs": [],
   "source": [
    "g=ER_model(1000, 0.02)\n",
    "g.generate()"
   ]
  },
  {
   "cell_type": "code",
   "execution_count": 4,
   "metadata": {},
   "outputs": [
    {
     "data": {
      "image/png": "[encoded data removed]",
      "text/plain": [
       "<Figure size 432x288 with 1 Axes>"
      ]
     },
     "metadata": {
      "needs_background": "light"
     },
     "output_type": "display_data"
    }
   ],
   "source": [
    "g.degree_distribution()"
   ]
  },
  {
   "cell_type": "code",
   "execution_count": null,
   "metadata": {},
   "outputs": [],
   "source": []
  }
 ],
 "metadata": {
  "kernelspec": {
   "display_name": "Python 3",
   "language": "python",
   "name": "python3"
  },
  "language_info": {
   "codemirror_mode": {
    "name": "ipython",
    "version": 3
   },
   "file_extension": ".py",
   "mimetype": "text/x-python",
   "name": "python",
   "nbconvert_exporter": "python",
   "pygments_lexer": "ipython3",
   "version": "3.7.4"
  }
 },
 "nbformat": 4,
 "nbformat_minor": 2
}
